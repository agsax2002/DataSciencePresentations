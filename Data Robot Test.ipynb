{
 "metadata": {
  "name": "",
  "signature": "sha256:8a5e9a14fe17e06ab0772510f66300a1d3d53001be05e6b7f551ce528ba99bca"
 },
 "nbformat": 3,
 "nbformat_minor": 0,
 "worksheets": [
  {
   "cells": [
    {
     "cell_type": "heading",
     "level": 3,
     "metadata": {},
     "source": [
      "See blogpost here: http://www.datarobot.com/blog/python-getting-started-with-data-science/"
     ]
    },
    {
     "cell_type": "code",
     "collapsed": false,
     "input": [
      "import zipfile\n",
      "from urllib.request import urlopen\n",
      "import os\n",
      "\n",
      "source_url = 'ftp://ftp.nhtsa.gov/GES/GES12/GES12_Flatfile.zip'\n",
      "zip_name = 'GES12_Flatfile.zip'\n",
      "cwd = os.getcwd()\n",
      "dir_path  = os.path.join(cwd, 'GES2012')\n",
      "zip_path = os.path.join(dir_path, zip_name)\n",
      "\n",
      "# We'll make a directory for you to play around with,\n",
      "# then when you're done playing you can just delete the directory\n",
      "if not os.path.exists(dir_path):\n",
      "    os.makedirs(dir_path)\n",
      "\n",
      "# Download the file from GES website if you haven't already\n",
      "if not os.path.exists(zip_path):\n",
      "    response = urlopen(source_url)\n",
      "    with open(zip_path, 'wb') as fh:\n",
      "        x = response.read()\n",
      "        fh.write(x)\n",
      "\n",
      "# Extract all the files from that zipfile\n",
      "with zipfile.ZipFile(os.path.join(dir_path, zip_name), 'r') as z:\n",
      "    z.extractall(dir_path)"
     ],
     "language": "python",
     "metadata": {},
     "outputs": [
      {
       "ename": "URLError",
       "evalue": "<urlopen error [Errno 8] nodename nor servname provided, or not known>",
       "output_type": "pyerr",
       "traceback": [
        "\u001b[0;31m---------------------------------------------------------------------------\u001b[0m\n\u001b[0;31mURLError\u001b[0m                                  Traceback (most recent call last)",
        "\u001b[0;32m<ipython-input-8-fae59f649239>\u001b[0m in \u001b[0;36m<module>\u001b[0;34m()\u001b[0m\n\u001b[1;32m     16\u001b[0m \u001b[0;31m# Download the file from GES website if you haven't already\u001b[0m\u001b[0;34m\u001b[0m\u001b[0;34m\u001b[0m\u001b[0m\n\u001b[1;32m     17\u001b[0m \u001b[0;32mif\u001b[0m \u001b[0;32mnot\u001b[0m \u001b[0mos\u001b[0m\u001b[0;34m.\u001b[0m\u001b[0mpath\u001b[0m\u001b[0;34m.\u001b[0m\u001b[0mexists\u001b[0m\u001b[0;34m(\u001b[0m\u001b[0mzip_path\u001b[0m\u001b[0;34m)\u001b[0m\u001b[0;34m:\u001b[0m\u001b[0;34m\u001b[0m\u001b[0m\n\u001b[0;32m---> 18\u001b[0;31m     \u001b[0mresponse\u001b[0m \u001b[0;34m=\u001b[0m \u001b[0murlopen\u001b[0m\u001b[0;34m(\u001b[0m\u001b[0msource_url\u001b[0m\u001b[0;34m)\u001b[0m\u001b[0;34m\u001b[0m\u001b[0m\n\u001b[0m\u001b[1;32m     19\u001b[0m     \u001b[0;32mwith\u001b[0m \u001b[0mopen\u001b[0m\u001b[0;34m(\u001b[0m\u001b[0mzip_path\u001b[0m\u001b[0;34m,\u001b[0m \u001b[0;34m'wb'\u001b[0m\u001b[0;34m)\u001b[0m \u001b[0;32mas\u001b[0m \u001b[0mfh\u001b[0m\u001b[0;34m:\u001b[0m\u001b[0;34m\u001b[0m\u001b[0m\n\u001b[1;32m     20\u001b[0m         \u001b[0mx\u001b[0m \u001b[0;34m=\u001b[0m \u001b[0mresponse\u001b[0m\u001b[0;34m.\u001b[0m\u001b[0mread\u001b[0m\u001b[0;34m(\u001b[0m\u001b[0;34m)\u001b[0m\u001b[0;34m\u001b[0m\u001b[0m\n",
        "\u001b[0;32m/Users/agreenhut/anaconda/lib/python3.4/urllib/request.py\u001b[0m in \u001b[0;36murlopen\u001b[0;34m(url, data, timeout, cafile, capath, cadefault)\u001b[0m\n\u001b[1;32m    151\u001b[0m     \u001b[0;32melse\u001b[0m\u001b[0;34m:\u001b[0m\u001b[0;34m\u001b[0m\u001b[0m\n\u001b[1;32m    152\u001b[0m         \u001b[0mopener\u001b[0m \u001b[0;34m=\u001b[0m \u001b[0m_opener\u001b[0m\u001b[0;34m\u001b[0m\u001b[0m\n\u001b[0;32m--> 153\u001b[0;31m     \u001b[0;32mreturn\u001b[0m \u001b[0mopener\u001b[0m\u001b[0;34m.\u001b[0m\u001b[0mopen\u001b[0m\u001b[0;34m(\u001b[0m\u001b[0murl\u001b[0m\u001b[0;34m,\u001b[0m \u001b[0mdata\u001b[0m\u001b[0;34m,\u001b[0m \u001b[0mtimeout\u001b[0m\u001b[0;34m)\u001b[0m\u001b[0;34m\u001b[0m\u001b[0m\n\u001b[0m\u001b[1;32m    154\u001b[0m \u001b[0;34m\u001b[0m\u001b[0m\n\u001b[1;32m    155\u001b[0m \u001b[0;32mdef\u001b[0m \u001b[0minstall_opener\u001b[0m\u001b[0;34m(\u001b[0m\u001b[0mopener\u001b[0m\u001b[0;34m)\u001b[0m\u001b[0;34m:\u001b[0m\u001b[0;34m\u001b[0m\u001b[0m\n",
        "\u001b[0;32m/Users/agreenhut/anaconda/lib/python3.4/urllib/request.py\u001b[0m in \u001b[0;36mopen\u001b[0;34m(self, fullurl, data, timeout)\u001b[0m\n\u001b[1;32m    453\u001b[0m             \u001b[0mreq\u001b[0m \u001b[0;34m=\u001b[0m \u001b[0mmeth\u001b[0m\u001b[0;34m(\u001b[0m\u001b[0mreq\u001b[0m\u001b[0;34m)\u001b[0m\u001b[0;34m\u001b[0m\u001b[0m\n\u001b[1;32m    454\u001b[0m \u001b[0;34m\u001b[0m\u001b[0m\n\u001b[0;32m--> 455\u001b[0;31m         \u001b[0mresponse\u001b[0m \u001b[0;34m=\u001b[0m \u001b[0mself\u001b[0m\u001b[0;34m.\u001b[0m\u001b[0m_open\u001b[0m\u001b[0;34m(\u001b[0m\u001b[0mreq\u001b[0m\u001b[0;34m,\u001b[0m \u001b[0mdata\u001b[0m\u001b[0;34m)\u001b[0m\u001b[0;34m\u001b[0m\u001b[0m\n\u001b[0m\u001b[1;32m    456\u001b[0m \u001b[0;34m\u001b[0m\u001b[0m\n\u001b[1;32m    457\u001b[0m         \u001b[0;31m# post-process response\u001b[0m\u001b[0;34m\u001b[0m\u001b[0;34m\u001b[0m\u001b[0m\n",
        "\u001b[0;32m/Users/agreenhut/anaconda/lib/python3.4/urllib/request.py\u001b[0m in \u001b[0;36m_open\u001b[0;34m(self, req, data)\u001b[0m\n\u001b[1;32m    471\u001b[0m         \u001b[0mprotocol\u001b[0m \u001b[0;34m=\u001b[0m \u001b[0mreq\u001b[0m\u001b[0;34m.\u001b[0m\u001b[0mtype\u001b[0m\u001b[0;34m\u001b[0m\u001b[0m\n\u001b[1;32m    472\u001b[0m         result = self._call_chain(self.handle_open, protocol, protocol +\n\u001b[0;32m--> 473\u001b[0;31m                                   '_open', req)\n\u001b[0m\u001b[1;32m    474\u001b[0m         \u001b[0;32mif\u001b[0m \u001b[0mresult\u001b[0m\u001b[0;34m:\u001b[0m\u001b[0;34m\u001b[0m\u001b[0m\n\u001b[1;32m    475\u001b[0m             \u001b[0;32mreturn\u001b[0m \u001b[0mresult\u001b[0m\u001b[0;34m\u001b[0m\u001b[0m\n",
        "\u001b[0;32m/Users/agreenhut/anaconda/lib/python3.4/urllib/request.py\u001b[0m in \u001b[0;36m_call_chain\u001b[0;34m(self, chain, kind, meth_name, *args)\u001b[0m\n\u001b[1;32m    431\u001b[0m         \u001b[0;32mfor\u001b[0m \u001b[0mhandler\u001b[0m \u001b[0;32min\u001b[0m \u001b[0mhandlers\u001b[0m\u001b[0;34m:\u001b[0m\u001b[0;34m\u001b[0m\u001b[0m\n\u001b[1;32m    432\u001b[0m             \u001b[0mfunc\u001b[0m \u001b[0;34m=\u001b[0m \u001b[0mgetattr\u001b[0m\u001b[0;34m(\u001b[0m\u001b[0mhandler\u001b[0m\u001b[0;34m,\u001b[0m \u001b[0mmeth_name\u001b[0m\u001b[0;34m)\u001b[0m\u001b[0;34m\u001b[0m\u001b[0m\n\u001b[0;32m--> 433\u001b[0;31m             \u001b[0mresult\u001b[0m \u001b[0;34m=\u001b[0m \u001b[0mfunc\u001b[0m\u001b[0;34m(\u001b[0m\u001b[0;34m*\u001b[0m\u001b[0margs\u001b[0m\u001b[0;34m)\u001b[0m\u001b[0;34m\u001b[0m\u001b[0m\n\u001b[0m\u001b[1;32m    434\u001b[0m             \u001b[0;32mif\u001b[0m \u001b[0mresult\u001b[0m \u001b[0;32mis\u001b[0m \u001b[0;32mnot\u001b[0m \u001b[0;32mNone\u001b[0m\u001b[0;34m:\u001b[0m\u001b[0;34m\u001b[0m\u001b[0m\n\u001b[1;32m    435\u001b[0m                 \u001b[0;32mreturn\u001b[0m \u001b[0mresult\u001b[0m\u001b[0;34m\u001b[0m\u001b[0m\n",
        "\u001b[0;32m/Users/agreenhut/anaconda/lib/python3.4/urllib/request.py\u001b[0m in \u001b[0;36mftp_open\u001b[0;34m(self, req)\u001b[0m\n\u001b[1;32m   1394\u001b[0m             \u001b[0mhost\u001b[0m \u001b[0;34m=\u001b[0m \u001b[0msocket\u001b[0m\u001b[0;34m.\u001b[0m\u001b[0mgethostbyname\u001b[0m\u001b[0;34m(\u001b[0m\u001b[0mhost\u001b[0m\u001b[0;34m)\u001b[0m\u001b[0;34m\u001b[0m\u001b[0m\n\u001b[1;32m   1395\u001b[0m         \u001b[0;32mexcept\u001b[0m \u001b[0mOSError\u001b[0m \u001b[0;32mas\u001b[0m \u001b[0mmsg\u001b[0m\u001b[0;34m:\u001b[0m\u001b[0;34m\u001b[0m\u001b[0m\n\u001b[0;32m-> 1396\u001b[0;31m             \u001b[0;32mraise\u001b[0m \u001b[0mURLError\u001b[0m\u001b[0;34m(\u001b[0m\u001b[0mmsg\u001b[0m\u001b[0;34m)\u001b[0m\u001b[0;34m\u001b[0m\u001b[0m\n\u001b[0m\u001b[1;32m   1397\u001b[0m         \u001b[0mpath\u001b[0m\u001b[0;34m,\u001b[0m \u001b[0mattrs\u001b[0m \u001b[0;34m=\u001b[0m \u001b[0msplitattr\u001b[0m\u001b[0;34m(\u001b[0m\u001b[0mreq\u001b[0m\u001b[0;34m.\u001b[0m\u001b[0mselector\u001b[0m\u001b[0;34m)\u001b[0m\u001b[0;34m\u001b[0m\u001b[0m\n\u001b[1;32m   1398\u001b[0m         \u001b[0mdirs\u001b[0m \u001b[0;34m=\u001b[0m \u001b[0mpath\u001b[0m\u001b[0;34m.\u001b[0m\u001b[0msplit\u001b[0m\u001b[0;34m(\u001b[0m\u001b[0;34m'/'\u001b[0m\u001b[0;34m)\u001b[0m\u001b[0;34m\u001b[0m\u001b[0m\n",
        "\u001b[0;31mURLError\u001b[0m: <urlopen error [Errno 8] nodename nor servname provided, or not known>"
       ]
      }
     ],
     "prompt_number": 8
    },
    {
     "cell_type": "code",
     "collapsed": false,
     "input": [
      "#See what we just unzipped\n",
      "os.listdir(dir_path)"
     ],
     "language": "python",
     "metadata": {},
     "outputs": [
      {
       "metadata": {},
       "output_type": "pyout",
       "prompt_number": 10,
       "text": [
        "['2012GESFlatFileTXT.sas',\n",
        " 'ACCIDENT.TXT',\n",
        " 'CEVENT.TXT',\n",
        " 'DAMAGE.TXT',\n",
        " 'DISTRACT.TXT',\n",
        " 'DRIMPAIR.TXT',\n",
        " 'FACTOR.TXT',\n",
        " 'MANEUVER.TXT',\n",
        " 'NMCRASH.TXT',\n",
        " 'NMIMPAIR.TXT',\n",
        " 'NMPRIOR.TXT',\n",
        " 'PARKWORK.TXT',\n",
        " 'PERSON.TXT',\n",
        " 'SAFETYEQ.TXT',\n",
        " 'VEHICLE.TXT',\n",
        " 'VEVENT.TXT',\n",
        " 'VIOLATN.TXT',\n",
        " 'VISION.TXT',\n",
        " 'VSOE.TXT']"
       ]
      }
     ],
     "prompt_number": 10
    },
    {
     "cell_type": "code",
     "collapsed": false,
     "input": [
      "import pandas as pd\n",
      "import numpy as np\n",
      "import sklearn\n",
      "\n",
      "cwd = os.getcwd()\n",
      "dir_path  = os.path.join(cwd, 'GES2012')\n",
      "input_file_path = os.path.join(dir_path, 'PERSON.TXT')\n",
      "\n",
      "input_data = pd.read_csv(input_file_path, delimiter='\\t')"
     ],
     "language": "python",
     "metadata": {},
     "outputs": [],
     "prompt_number": 11
    },
    {
     "cell_type": "code",
     "collapsed": false,
     "input": [
      "sorted(input_data.columns)"
     ],
     "language": "python",
     "metadata": {},
     "outputs": [
      {
       "metadata": {},
       "output_type": "pyout",
       "prompt_number": 12,
       "text": [
        "['AGE',\n",
        " 'AGE_IM',\n",
        " 'AIR_BAG',\n",
        " 'ALC_RES',\n",
        " 'ALC_STATUS',\n",
        " 'ATST_TYP',\n",
        " 'BODY_TYP',\n",
        " 'CASENUM',\n",
        " 'DRINKING',\n",
        " 'DRUGRES1',\n",
        " 'DRUGRES2',\n",
        " 'DRUGRES3',\n",
        " 'DRUGS',\n",
        " 'DRUGTST1',\n",
        " 'DRUGTST2',\n",
        " 'DRUGTST3',\n",
        " 'DSTATUS',\n",
        " 'EJECTION',\n",
        " 'EJECT_IM',\n",
        " 'EMER_USE',\n",
        " 'FIRE_EXP',\n",
        " 'HARM_EV',\n",
        " 'HOSPITAL',\n",
        " 'HOUR',\n",
        " 'IMPACT1',\n",
        " 'INJSEV_IM',\n",
        " 'INJ_SEV',\n",
        " 'LOCATION',\n",
        " 'MAKE',\n",
        " 'MAN_COLL',\n",
        " 'MINUTE',\n",
        " 'MOD_YEAR',\n",
        " 'MONTH',\n",
        " 'PERALCH_IM',\n",
        " 'PER_NO',\n",
        " 'PER_TYP',\n",
        " 'PJ',\n",
        " 'PSU',\n",
        " 'PSUSTRAT',\n",
        " 'P_SF1',\n",
        " 'P_SF2',\n",
        " 'P_SF3',\n",
        " 'REGION',\n",
        " 'REST_MIS',\n",
        " 'REST_USE',\n",
        " 'ROLLOVER',\n",
        " 'SCH_BUS',\n",
        " 'SEAT_IM',\n",
        " 'SEAT_POS',\n",
        " 'SEX',\n",
        " 'SEX_IM',\n",
        " 'SPEC_USE',\n",
        " 'STRATUM',\n",
        " 'STR_VEH',\n",
        " 'TOW_VEH',\n",
        " 'VEH_NO',\n",
        " 'VE_FORMS',\n",
        " 'WEIGHT']"
       ]
      }
     ],
     "prompt_number": 12
    },
    {
     "cell_type": "code",
     "collapsed": false,
     "input": [
      "input_data.INJSEV_IM.value_counts()"
     ],
     "language": "python",
     "metadata": {},
     "outputs": [
      {
       "metadata": {},
       "output_type": "pyout",
       "prompt_number": 13,
       "text": [
        "0    100840\n",
        "2     20758\n",
        "1     19380\n",
        "3      9738\n",
        "5      1179\n",
        "4      1178\n",
        "6         4\n",
        "dtype: int64"
       ]
      }
     ],
     "prompt_number": 13
    },
    {
     "cell_type": "code",
     "collapsed": false,
     "input": [
      "# Drop those odd cases\n",
      "input_data = input_data[input_data.INJSEV_IM != 6]\n",
      "\n",
      "for column_name in input_data.columns:\n",
      "    n_nans = input_data[column_name].isnull().sum()\n",
      "    if n_nans > 0:\n",
      "        print (column_name, n_nans)"
     ],
     "language": "python",
     "metadata": {},
     "outputs": [
      {
       "output_type": "stream",
       "stream": "stdout",
       "text": [
        "MAKE 5162\n",
        "BODY_TYP 5162\n",
        "MOD_YEAR 5162\n",
        "TOW_VEH 5162\n",
        "SPEC_USE 5162\n",
        "EMER_USE 5162\n",
        "ROLLOVER 5162\n",
        "IMPACT1 5162\n",
        "FIRE_EXP 5162\n"
       ]
      }
     ],
     "prompt_number": 15
    },
    {
     "cell_type": "code",
     "collapsed": false,
     "input": [
      "print (input_data.shape)\n",
      "data = input_data[~input_data.MAKE.isnull()]\n",
      "discarded = data.pop('INJ_SEV')\n",
      "target = data.pop('INJSEV_IM')\n",
      "print (data.shape)"
     ],
     "language": "python",
     "metadata": {},
     "outputs": [
      {
       "output_type": "stream",
       "stream": "stdout",
       "text": [
        "(153073, 58)\n",
        "(147911, 56)"
       ]
      },
      {
       "output_type": "stream",
       "stream": "stdout",
       "text": [
        "\n"
       ]
      }
     ],
     "prompt_number": 21
    },
    {
     "cell_type": "code",
     "collapsed": false,
     "input": [
      "target = (target == 4).astype('float')"
     ],
     "language": "python",
     "metadata": {},
     "outputs": [],
     "prompt_number": 22
    },
    {
     "cell_type": "code",
     "collapsed": false,
     "input": [
      "from sklearn.linear_model import LinearRegression\n",
      "from sklearn.metrics import roc_auc_score\n",
      "from sklearn.grid_search import GridSearchCV\n",
      "\n",
      "# Train on half of the data while reserving the other half for\n",
      "# model comparisons\n",
      "xtrain, xtest, ytrain, ytest = sklearn.cross_validation.train_test_split(\n",
      "    data.values, target.values, train_size=0.5)\n",
      "\n",
      "linreg = LinearRegression()\n",
      "linreg.fit(xtrain, ytrain)\n",
      "\n",
      "lr_preds = linreg.predict(xtest)\n",
      "lr_perf = roc_auc_score(ytest, lr_preds)\n",
      "print ('OLS: Area under the ROC curve = {}'.format(lr_perf))"
     ],
     "language": "python",
     "metadata": {},
     "outputs": [
      {
       "output_type": "stream",
       "stream": "stdout",
       "text": [
        "OLS: Area under the ROC curve = 0.9304890372366488\n"
       ]
      }
     ],
     "prompt_number": 26
    },
    {
     "cell_type": "code",
     "collapsed": false,
     "input": [
      "from sklearn.linear_model import Ridge\n",
      "\n",
      "ridge = GridSearchCV(Ridge(),\n",
      "                     {'alpha': np.logspace(-10, 10, 10)})\n",
      "ridge.fit(xtrain, ytrain)\n",
      "ridge_preds = ridge.predict(xtest)\n",
      "ridge_performance = roc_auc_score(ytest, ridge_preds)\n",
      "print ('Ridge: Area under the ROC curve = {}'.format(ridge_performance))"
     ],
     "language": "python",
     "metadata": {},
     "outputs": [
      {
       "output_type": "stream",
       "stream": "stdout",
       "text": [
        "Ridge: Area under the ROC curve = 0.9305915934001125\n"
       ]
      }
     ],
     "prompt_number": 27
    },
    {
     "cell_type": "code",
     "collapsed": false,
     "input": [
      "from sklearn.linear_model import Lasso\n",
      "from sklearn.metrics import roc_auc_score\n",
      "from sklearn.grid_search import GridSearchCV\n",
      "\n",
      "lasso = GridSearchCV(Lasso(),\n",
      "                     {'alpha': np.logspace(-10, -8, 5)})\n",
      "lasso.fit(xtrain, ytrain)\n",
      "lasso_preds = lasso.predict(xtest)\n",
      "lasso_performance = roc_auc_score(ytest, lasso_preds)\n",
      "print ('Lasso: Area under the ROC curve = {}'.format(lasso_performance))"
     ],
     "language": "python",
     "metadata": {},
     "outputs": [
      {
       "output_type": "stream",
       "stream": "stdout",
       "text": [
        "Lasso: Area under the ROC curve = 0.9304885977507396\n"
       ]
      },
      {
       "output_type": "stream",
       "stream": "stderr",
       "text": [
        "/Users/agreenhut/anaconda/lib/python3.4/site-packages/sklearn/linear_model/coordinate_descent.py:490: ConvergenceWarning: Objective did not converge. You might want to increase the number of iterations\n",
        "  ConvergenceWarning)\n"
       ]
      }
     ],
     "prompt_number": 29
    },
    {
     "cell_type": "code",
     "collapsed": false,
     "input": [
      "from sklearn.ensemble import GradientBoostingClassifier\n",
      "from sklearn.metrics import roc_auc_score\n",
      "from sklearn.grid_search import GridSearchCV\n",
      "\n",
      "gbm = GradientBoostingClassifier(n_estimators=500)\n",
      "\n",
      "gbm.fit(xtrain, ytrain)\n",
      "gbm_preds = gbm.predict_proba(xtest)[:, 1]\n",
      "gbm_performance = roc_auc_score(ytest, gbm_preds)\n",
      "\n",
      "print ('GBM: Area under the ROC curve = {}'.format(gbm_performance))"
     ],
     "language": "python",
     "metadata": {},
     "outputs": [
      {
       "output_type": "stream",
       "stream": "stdout",
       "text": [
        "GBM: Area under the ROC curve = 0.9680149385513637\n"
       ]
      }
     ],
     "prompt_number": 30
    },
    {
     "cell_type": "code",
     "collapsed": false,
     "input": [
      "from sklearn.tree import DecisionTreeClassifier\n",
      "from sklearn.metrics import roc_auc_score\n",
      "\n",
      "tree = GridSearchCV(DecisionTreeClassifier(),\n",
      "                    {'max_depth': np.arange(3, 10)})\n",
      "\n",
      "tree.fit(xtrain, ytrain)\n",
      "tree_preds = tree.predict_proba(xtest)[:, 1]\n",
      "tree_performance = roc_auc_score(ytest, tree_preds)\n",
      "\n",
      "print ('DecisionTree: Area under the ROC curve = {}'.format(tree_performance))"
     ],
     "language": "python",
     "metadata": {},
     "outputs": [
      {
       "output_type": "stream",
       "stream": "stdout",
       "text": [
        "DecisionTree: Area under the ROC curve = 0.9396437839112999\n"
       ]
      }
     ],
     "prompt_number": 31
    },
    {
     "cell_type": "code",
     "collapsed": false,
     "input": [
      "importances = pd.Series(gbm.feature_importances_, index=data.columns)\n",
      "print (importances.order(ascending=False)[:10])"
     ],
     "language": "python",
     "metadata": {},
     "outputs": [
      {
       "output_type": "stream",
       "stream": "stdout",
       "text": [
        "STRATUM     0.106238\n",
        "EJECT_IM    0.075484\n",
        "WEIGHT      0.063853\n",
        "DRINKING    0.053987\n",
        "HOUR        0.045015\n",
        "AGE_IM      0.036889\n",
        "ALC_RES     0.036123\n",
        "FIRE_EXP    0.034666\n",
        "HOSPITAL    0.032212\n",
        "IMPACT1     0.031792\n",
        "dtype: float64\n"
       ]
      }
     ],
     "prompt_number": 33
    },
    {
     "cell_type": "code",
     "collapsed": false,
     "input": [],
     "language": "python",
     "metadata": {},
     "outputs": []
    }
   ],
   "metadata": {}
  }
 ]
}